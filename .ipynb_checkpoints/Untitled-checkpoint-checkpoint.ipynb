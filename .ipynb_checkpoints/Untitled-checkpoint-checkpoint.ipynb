{
 "cells": [
  {
   "cell_type": "markdown",
   "id": "40bc3009",
   "metadata": {},
   "source": [
    "# Exploring Films to Elevate Creative Excellence in our New Movies\n",
    "## Overview\n",
    "In this project, we will embark on a journey that encompasses data analysis, market research, and collaboration with industry professionals. By leveraging this knowledge, we can develop a data-driven approach that enhances our ability to craft films that resonate with audiences and achieve significant box office success"
   ]
  },
  {
   "cell_type": "markdown",
   "id": "5ad17aa1",
   "metadata": {},
   "source": [
    "## Business Understanding\n",
    "### Introduction\n",
    "In the dynamic and competitive landscape of the film industry, achieving box office success is not just a matter of creative brilliance but also a strategic business endeavor. As our movie studio aims to create films that not only captivate audiences but also generate substantial profits, it is essential to gain a comprehensive understanding of the factors that contribute to box office hits. In an era driven by data, a data-driven approach plays a vital role in our project. By analyzing box office data, market research reports, and audience metrics, we can identify patterns, trends, and untapped market opportunities. This empirical approach guides our decision-making, reducing risks and increasing our potential for profitability.\n",
    "\n",
    "Ultimately, the insights and strategies derived from this project will enable our movie studio to position itself strategically within the industry, effectively competing for audience attention and box office success. By combining creative excellence with a deep understanding of the business aspects of the film industry, we aim to create a sustainable and thriving film production enterprise. This project endeavors to explore the business dynamics behind successful films, delving into market insights and consumer preferences to guide our decision-making process. By analyzing box office performance, studying market trends, and identifying successful studios and filmmakers, we can gain invaluable knowledge that enables us to produce films with a higher probability of financial success.\n",
    "\n",
    "## Problem Statement\n",
    "<b> Leveraging Market Insights to Drive Profitability: </b> We can effectively utilize market research and consumer insights to make informed decisions and improve the financial performance of our film productions. And also identify untapped market opportunities and tailor our films to meet the demands of specific target audiences.\n",
    "\n",
    "<b> Establishing Collaborations for Industry Success: </b> How can we build strategic partnerships and collaborations with industry professionals, including producers, distributors, and market analysts, to enhance our understanding of market dynamics and increase the chances of box office success? How can these collaborations contribute to more effective marketing and distribution strategies?\n",
    "\n",
    "Integrating Creativity with Data-Driven Approaches: How can we strike a balance between creative excellence and data-driven decision-making? How can we leverage data analysis tools and techniques to inform creative choices and improve the chances of producing films that resonate with audiences while also achieving financial success?\n",
    "\n",
    "### Main Objective in Business Understanding\n",
    "<b> Understand Market Demand: </b> This is to gain a deep understanding of market demand and evolving audience preferences. This entails conducting market research, analyzing audience demographics, trends, and preferences, and staying updated with industry developments.\n",
    "\n",
    "By understanding the market demand, your objective is to identify gaps, emerging genres, and untapped market opportunities. This knowledge will help align your film productions with audience interests, enhance marketability, and increase the likelihood of achieving box office success. This objective provide a framework for the project and can be further refined and tailored to suit the specific goals and resources of the movie studio.\n",
    "\n",
    "### Specific Objective\n",
    "<b>Develop a Data-Driven Greenlighting Process</b>\n",
    "\n",
    "This is to develop a data-driven greenlighting process for evaluating and selecting film projects. This involves creating a systematic approach that integrates market data, financial analysis, and creative elements to assess the potential success and profitability of film concepts. The objective is to establish criteria and metrics for decision-making, such as return on investment projections, market demand analysis, and risk assessment, to guide the selection and prioritization of film projects within your movie studio.\n",
    "\n",
    "<b> Analyze Successful Box Office Hits:</b>\n",
    "\n",
    "This objective is to analyze a sample of successful box office hits within a specific time frame (e.g., past five years) to identify common patterns and characteristics. This includes examining factors such as genre, budget range, release timing, marketing strategies, critical reception, and audience demographics. The objective is to extract actionable insights from this analysis that can guide decision-making in the development and production of future films.\n",
    "\n",
    "<b> In conclusion, </b>this project's insights offer valuable guidance to our movie studio in navigating the current film landscape. By aligning our creative endeavors with audience preferences and staying attuned to market trends, we can increase the likelihood of creating films that resonate with viewers and achieve commercial success."
   ]
  },
  {
   "cell_type": "markdown",
   "id": "550cbc6b",
   "metadata": {},
   "source": [
    "## Data Understanding\n",
    "The Data used in this Project was provided to us:\n",
    "\n",
    "• [Box Office Mojo](https://www.boxofficemojo.com/)to an external site.\n",
    "\n",
    "• [IMDB](https://www.imdb.com/)to an external site.\n",
    "\n",
    "• [Rotten Tomatoes](https://www.rottentomatoes.com/) to an external site.\n",
    "\n",
    "• [TheMovieDB](https://www.themoviedb.org/) to an external site.\n",
    "\n",
    "• [The Numbers](https://www.the-numbers.com/) to an external site.\n",
    "\n",
    "This dataset contains information about a selection of movies, including their title, release year, genre, IMDb rating, and worldwide gross income.\n",
    "\n",
    "Below Is a dataset of Movie ratings we shall go through\n",
    "\n",
    "|No.\t|average rating\t|Num of Votes|\n",
    "|--------|---------------|------------|\n",
    "|1\t|8.3\t|31\n",
    "|2\t|8.9\t|559\n",
    "|3\t|6.4\t|20\n",
    "|4\t|4.2\t|50352\n",
    "|5\t|6.5\t|21\n",
    "|6\t|6.2\t|326\n",
    "|7\t|7\t    | 1613\n",
    "\n",
    "### Experimental Design\n",
    "\n",
    "1, Read and check the data\n",
    "\n",
    "2, Cleaning the data\n",
    "\n",
    "3, Exploratory Data Analysis\n",
    "\n",
    "4, Conclusions and Recommendations\n",
    "\n",
    "The dataset sourced from IMDb offers valuable insights into the world of movies. It provides essential information such as movie titles, release years, genres, IMDb ratings, and worldwide gross income. This dataset is highly useful as it allows for identification, referencing, and temporal analysis through movie titles and release years. Additionally, the inclusion of genre information enables genre-specific analysis, while IMDb ratings offer a measure of popularity and audience reception.\n",
    "\n",
    "### Feature based properties that were used for justification of this project were\n",
    "\n",
    "<b>Title: </b>The inclusion of the movie title is essential as it serves as a unique identifier for each film in the dataset\n",
    "\n",
    "<b> Release Year:</b> The release year provides temporal information, allowing for the analysis of trends and patterns over time\n",
    "\n",
    " <b> Genre:</b> Genre information is highly relevant as it allows for the categorization and grouping of movies based on their thematic elements and styles.\n",
    "\n",
    " <b> IMDb Rating:</b>  IMDb ratings offer a quantifiable measure of audience reception and popularity\n",
    "\n",
    "   <b>Gross Income:  </b> The inclusion of gross income is vital as it provides a quantitative measure of a film's financial success.\n",
    "\n",
    "Including these features in the dataset, the project can leverage their properties and relevance to gain insights into the performance, popularity, and financial success of movies. These insights can then inform decision-making processes related to film production, genre selection, target audience identification, and marketing strategies, ultimately increasing the chances of creating commercially successful films.\n",
    "\n",
    "### Limitations\n",
    "\n",
    "While the dataset provides valuable information for the project, it's important to be aware of its limitations, as they can have implications for the analysis and decision-making process. Here are some potential limitations to consider:\n",
    "\n",
    "Data Completeness: The dataset might have missing or incomplete data points.\n",
    "\n",
    "Data Reliability: The reliability of the dataset depends on the source from which it was obtained\n",
    "\n",
    "Selection Bias: The dataset might suffer from selection bias, meaning it may not represent the entire population of movies accurately\n",
    "\n",
    "The dataset may not account for external factors that can influence a film's performance, such as competition, marketing campaigns, or economic conditions. It's crucial to acknowledge these limitations and consider their potential impact on the project's findings and conclusions."
   ]
  },
  {
   "cell_type": "markdown",
   "id": "b8605720",
   "metadata": {},
   "source": [
    "## Data Preparation"
   ]
  },
  {
   "cell_type": "markdown",
   "id": "6f05e285",
   "metadata": {},
   "source": [
    "This involves transforming, cleaning, and organizing raw data to ensure its quality, consistency, and suitability for analysis. The process typically includes several key steps:\n",
    "\n",
    "Instructions were set that outline the steps to obtain and prepare raw data for analysis using Python and pandas, a popular data manipulation library\n",
    "\n",
    "### Importing Relevant Libraries"
   ]
  },
  {
   "cell_type": "code",
   "execution_count": 3,
   "id": "be25adf4",
   "metadata": {},
   "outputs": [],
   "source": [
    "import pandas as pd\n",
    "import matplotlib.pyplot as plt\n",
    "%matplotlib inline"
   ]
  },
  {
   "cell_type": "markdown",
   "id": "6f1bcd3a",
   "metadata": {},
   "source": [
    "### Reading The Data"
   ]
  },
  {
   "cell_type": "code",
   "execution_count": 4,
   "id": "32ce2d4d",
   "metadata": {},
   "outputs": [
    {
     "data": {
      "text/html": [
       "<div>\n",
       "<style scoped>\n",
       "    .dataframe tbody tr th:only-of-type {\n",
       "        vertical-align: middle;\n",
       "    }\n",
       "\n",
       "    .dataframe tbody tr th {\n",
       "        vertical-align: top;\n",
       "    }\n",
       "\n",
       "    .dataframe thead th {\n",
       "        text-align: right;\n",
       "    }\n",
       "</style>\n",
       "<table border=\"1\" class=\"dataframe\">\n",
       "  <thead>\n",
       "    <tr style=\"text-align: right;\">\n",
       "      <th></th>\n",
       "      <th>tconst</th>\n",
       "      <th>averagerating</th>\n",
       "      <th>numvotes</th>\n",
       "    </tr>\n",
       "  </thead>\n",
       "  <tbody>\n",
       "    <tr>\n",
       "      <th>0</th>\n",
       "      <td>tt10356526</td>\n",
       "      <td>8.3</td>\n",
       "      <td>31</td>\n",
       "    </tr>\n",
       "    <tr>\n",
       "      <th>1</th>\n",
       "      <td>tt10384606</td>\n",
       "      <td>8.9</td>\n",
       "      <td>559</td>\n",
       "    </tr>\n",
       "    <tr>\n",
       "      <th>2</th>\n",
       "      <td>tt1042974</td>\n",
       "      <td>6.4</td>\n",
       "      <td>20</td>\n",
       "    </tr>\n",
       "    <tr>\n",
       "      <th>3</th>\n",
       "      <td>tt1043726</td>\n",
       "      <td>4.2</td>\n",
       "      <td>50352</td>\n",
       "    </tr>\n",
       "    <tr>\n",
       "      <th>4</th>\n",
       "      <td>tt1060240</td>\n",
       "      <td>6.5</td>\n",
       "      <td>21</td>\n",
       "    </tr>\n",
       "  </tbody>\n",
       "</table>\n",
       "</div>"
      ],
      "text/plain": [
       "       tconst  averagerating  numvotes\n",
       "0  tt10356526            8.3        31\n",
       "1  tt10384606            8.9       559\n",
       "2   tt1042974            6.4        20\n",
       "3   tt1043726            4.2     50352\n",
       "4   tt1060240            6.5        21"
      ]
     },
     "execution_count": 4,
     "metadata": {},
     "output_type": "execute_result"
    }
   ],
   "source": [
    "title_ratings=pd.read_csv(\"Datasets/title.ratings.csv\")\n",
    "title_ratings.head()"
   ]
  },
  {
   "cell_type": "code",
   "execution_count": 12,
   "id": "f8182c36",
   "metadata": {},
   "outputs": [
    {
     "data": {
      "text/html": [
       "<div>\n",
       "<style scoped>\n",
       "    .dataframe tbody tr th:only-of-type {\n",
       "        vertical-align: middle;\n",
       "    }\n",
       "\n",
       "    .dataframe tbody tr th {\n",
       "        vertical-align: top;\n",
       "    }\n",
       "\n",
       "    .dataframe thead th {\n",
       "        text-align: right;\n",
       "    }\n",
       "</style>\n",
       "<table border=\"1\" class=\"dataframe\">\n",
       "  <thead>\n",
       "    <tr style=\"text-align: right;\">\n",
       "      <th></th>\n",
       "      <th>Unnamed: 0</th>\n",
       "      <th>genre_ids</th>\n",
       "      <th>id</th>\n",
       "      <th>original_language</th>\n",
       "      <th>original_title</th>\n",
       "      <th>popularity</th>\n",
       "      <th>release_date</th>\n",
       "      <th>title</th>\n",
       "      <th>vote_average</th>\n",
       "      <th>vote_count</th>\n",
       "    </tr>\n",
       "  </thead>\n",
       "  <tbody>\n",
       "    <tr>\n",
       "      <th>0</th>\n",
       "      <td>0</td>\n",
       "      <td>[12, 14, 10751]</td>\n",
       "      <td>12444</td>\n",
       "      <td>en</td>\n",
       "      <td>Harry Potter and the Deathly Hallows: Part 1</td>\n",
       "      <td>33.533</td>\n",
       "      <td>11/19/2010</td>\n",
       "      <td>Harry Potter and the Deathly Hallows: Part 1</td>\n",
       "      <td>7.7</td>\n",
       "      <td>10788</td>\n",
       "    </tr>\n",
       "    <tr>\n",
       "      <th>1</th>\n",
       "      <td>1</td>\n",
       "      <td>[14, 12, 16, 10751]</td>\n",
       "      <td>10191</td>\n",
       "      <td>en</td>\n",
       "      <td>How to Train Your Dragon</td>\n",
       "      <td>28.734</td>\n",
       "      <td>3/26/2010</td>\n",
       "      <td>How to Train Your Dragon</td>\n",
       "      <td>7.7</td>\n",
       "      <td>7610</td>\n",
       "    </tr>\n",
       "    <tr>\n",
       "      <th>2</th>\n",
       "      <td>2</td>\n",
       "      <td>[12, 28, 878]</td>\n",
       "      <td>10138</td>\n",
       "      <td>en</td>\n",
       "      <td>Iron Man 2</td>\n",
       "      <td>28.515</td>\n",
       "      <td>5/7/2010</td>\n",
       "      <td>Iron Man 2</td>\n",
       "      <td>6.8</td>\n",
       "      <td>12368</td>\n",
       "    </tr>\n",
       "    <tr>\n",
       "      <th>3</th>\n",
       "      <td>3</td>\n",
       "      <td>[16, 35, 10751]</td>\n",
       "      <td>862</td>\n",
       "      <td>en</td>\n",
       "      <td>Toy Story</td>\n",
       "      <td>28.005</td>\n",
       "      <td>11/22/1995</td>\n",
       "      <td>Toy Story</td>\n",
       "      <td>7.9</td>\n",
       "      <td>10174</td>\n",
       "    </tr>\n",
       "    <tr>\n",
       "      <th>4</th>\n",
       "      <td>4</td>\n",
       "      <td>[28, 878, 12]</td>\n",
       "      <td>27205</td>\n",
       "      <td>en</td>\n",
       "      <td>Inception</td>\n",
       "      <td>27.920</td>\n",
       "      <td>7/16/2010</td>\n",
       "      <td>Inception</td>\n",
       "      <td>8.3</td>\n",
       "      <td>22186</td>\n",
       "    </tr>\n",
       "  </tbody>\n",
       "</table>\n",
       "</div>"
      ],
      "text/plain": [
       "   Unnamed: 0            genre_ids     id original_language   \n",
       "0           0      [12, 14, 10751]  12444                en  \\\n",
       "1           1  [14, 12, 16, 10751]  10191                en   \n",
       "2           2        [12, 28, 878]  10138                en   \n",
       "3           3      [16, 35, 10751]    862                en   \n",
       "4           4        [28, 878, 12]  27205                en   \n",
       "\n",
       "                                 original_title  popularity release_date   \n",
       "0  Harry Potter and the Deathly Hallows: Part 1      33.533   11/19/2010  \\\n",
       "1                      How to Train Your Dragon      28.734    3/26/2010   \n",
       "2                                    Iron Man 2      28.515     5/7/2010   \n",
       "3                                     Toy Story      28.005   11/22/1995   \n",
       "4                                     Inception      27.920    7/16/2010   \n",
       "\n",
       "                                          title  vote_average  vote_count  \n",
       "0  Harry Potter and the Deathly Hallows: Part 1           7.7       10788  \n",
       "1                      How to Train Your Dragon           7.7        7610  \n",
       "2                                    Iron Man 2           6.8       12368  \n",
       "3                                     Toy Story           7.9       10174  \n",
       "4                                     Inception           8.3       22186  "
      ]
     },
     "execution_count": 12,
     "metadata": {},
     "output_type": "execute_result"
    }
   ],
   "source": [
    "tmdb_movies= pd.read_csv(\"Datasets/tmdb.movies.csv\")\n",
    "tmdb_movies.head()"
   ]
  },
  {
   "cell_type": "code",
   "execution_count": 19,
   "id": "d803546c",
   "metadata": {},
   "outputs": [
    {
     "data": {
      "text/html": [
       "<div>\n",
       "<style scoped>\n",
       "    .dataframe tbody tr th:only-of-type {\n",
       "        vertical-align: middle;\n",
       "    }\n",
       "\n",
       "    .dataframe tbody tr th {\n",
       "        vertical-align: top;\n",
       "    }\n",
       "\n",
       "    .dataframe thead th {\n",
       "        text-align: right;\n",
       "    }\n",
       "</style>\n",
       "<table border=\"1\" class=\"dataframe\">\n",
       "  <thead>\n",
       "    <tr style=\"text-align: right;\">\n",
       "      <th></th>\n",
       "      <th>title</th>\n",
       "      <th>studio</th>\n",
       "      <th>domestic_gross</th>\n",
       "      <th>foreign_gross</th>\n",
       "      <th>year</th>\n",
       "    </tr>\n",
       "  </thead>\n",
       "  <tbody>\n",
       "    <tr>\n",
       "      <th>0</th>\n",
       "      <td>Toy Story 3</td>\n",
       "      <td>BV</td>\n",
       "      <td>415000000.0</td>\n",
       "      <td>652000000</td>\n",
       "      <td>2010</td>\n",
       "    </tr>\n",
       "    <tr>\n",
       "      <th>1</th>\n",
       "      <td>Alice in Wonderland (2010)</td>\n",
       "      <td>BV</td>\n",
       "      <td>334200000.0</td>\n",
       "      <td>691300000</td>\n",
       "      <td>2010</td>\n",
       "    </tr>\n",
       "    <tr>\n",
       "      <th>2</th>\n",
       "      <td>Harry Potter and the Deathly Hallows Part 1</td>\n",
       "      <td>WB</td>\n",
       "      <td>296000000.0</td>\n",
       "      <td>664300000</td>\n",
       "      <td>2010</td>\n",
       "    </tr>\n",
       "    <tr>\n",
       "      <th>3</th>\n",
       "      <td>Inception</td>\n",
       "      <td>WB</td>\n",
       "      <td>292600000.0</td>\n",
       "      <td>535700000</td>\n",
       "      <td>2010</td>\n",
       "    </tr>\n",
       "    <tr>\n",
       "      <th>4</th>\n",
       "      <td>Shrek Forever After</td>\n",
       "      <td>P/DW</td>\n",
       "      <td>238700000.0</td>\n",
       "      <td>513900000</td>\n",
       "      <td>2010</td>\n",
       "    </tr>\n",
       "  </tbody>\n",
       "</table>\n",
       "</div>"
      ],
      "text/plain": [
       "                                         title studio  domestic_gross   \n",
       "0                                  Toy Story 3     BV     415000000.0  \\\n",
       "1                   Alice in Wonderland (2010)     BV     334200000.0   \n",
       "2  Harry Potter and the Deathly Hallows Part 1     WB     296000000.0   \n",
       "3                                    Inception     WB     292600000.0   \n",
       "4                          Shrek Forever After   P/DW     238700000.0   \n",
       "\n",
       "  foreign_gross  year  \n",
       "0     652000000  2010  \n",
       "1     691300000  2010  \n",
       "2     664300000  2010  \n",
       "3     535700000  2010  \n",
       "4     513900000  2010  "
      ]
     },
     "execution_count": 19,
     "metadata": {},
     "output_type": "execute_result"
    }
   ],
   "source": [
    "bom_movie_gross= pd.read_csv(\"Datasets/bom.movie_gross.csv\")\n",
    "bom_movie_gross.head()"
   ]
  },
  {
   "cell_type": "code",
   "execution_count": 8,
   "id": "aa9484ab",
   "metadata": {},
   "outputs": [
    {
     "data": {
      "text/html": [
       "<div>\n",
       "<style scoped>\n",
       "    .dataframe tbody tr th:only-of-type {\n",
       "        vertical-align: middle;\n",
       "    }\n",
       "\n",
       "    .dataframe tbody tr th {\n",
       "        vertical-align: top;\n",
       "    }\n",
       "\n",
       "    .dataframe thead th {\n",
       "        text-align: right;\n",
       "    }\n",
       "</style>\n",
       "<table border=\"1\" class=\"dataframe\">\n",
       "  <thead>\n",
       "    <tr style=\"text-align: right;\">\n",
       "      <th></th>\n",
       "      <th>title_id</th>\n",
       "      <th>ordering</th>\n",
       "      <th>title</th>\n",
       "      <th>region</th>\n",
       "      <th>language</th>\n",
       "      <th>types</th>\n",
       "      <th>attributes</th>\n",
       "      <th>is_original_title</th>\n",
       "    </tr>\n",
       "  </thead>\n",
       "  <tbody>\n",
       "    <tr>\n",
       "      <th>0</th>\n",
       "      <td>tt0369610</td>\n",
       "      <td>10</td>\n",
       "      <td>Джурасик свят</td>\n",
       "      <td>BG</td>\n",
       "      <td>bg</td>\n",
       "      <td>NaN</td>\n",
       "      <td>NaN</td>\n",
       "      <td>0.0</td>\n",
       "    </tr>\n",
       "    <tr>\n",
       "      <th>1</th>\n",
       "      <td>tt0369610</td>\n",
       "      <td>11</td>\n",
       "      <td>Jurashikku warudo</td>\n",
       "      <td>JP</td>\n",
       "      <td>NaN</td>\n",
       "      <td>imdbDisplay</td>\n",
       "      <td>NaN</td>\n",
       "      <td>0.0</td>\n",
       "    </tr>\n",
       "    <tr>\n",
       "      <th>2</th>\n",
       "      <td>tt0369610</td>\n",
       "      <td>12</td>\n",
       "      <td>Jurassic World: O Mundo dos Dinossauros</td>\n",
       "      <td>BR</td>\n",
       "      <td>NaN</td>\n",
       "      <td>imdbDisplay</td>\n",
       "      <td>NaN</td>\n",
       "      <td>0.0</td>\n",
       "    </tr>\n",
       "    <tr>\n",
       "      <th>3</th>\n",
       "      <td>tt0369610</td>\n",
       "      <td>13</td>\n",
       "      <td>O Mundo dos Dinossauros</td>\n",
       "      <td>BR</td>\n",
       "      <td>NaN</td>\n",
       "      <td>NaN</td>\n",
       "      <td>short title</td>\n",
       "      <td>0.0</td>\n",
       "    </tr>\n",
       "    <tr>\n",
       "      <th>4</th>\n",
       "      <td>tt0369610</td>\n",
       "      <td>14</td>\n",
       "      <td>Jurassic World</td>\n",
       "      <td>FR</td>\n",
       "      <td>NaN</td>\n",
       "      <td>imdbDisplay</td>\n",
       "      <td>NaN</td>\n",
       "      <td>0.0</td>\n",
       "    </tr>\n",
       "  </tbody>\n",
       "</table>\n",
       "</div>"
      ],
      "text/plain": [
       "    title_id  ordering                                    title region   \n",
       "0  tt0369610        10                            Джурасик свят     BG  \\\n",
       "1  tt0369610        11                        Jurashikku warudo     JP   \n",
       "2  tt0369610        12  Jurassic World: O Mundo dos Dinossauros     BR   \n",
       "3  tt0369610        13                  O Mundo dos Dinossauros     BR   \n",
       "4  tt0369610        14                           Jurassic World     FR   \n",
       "\n",
       "  language        types   attributes  is_original_title  \n",
       "0       bg          NaN          NaN                0.0  \n",
       "1      NaN  imdbDisplay          NaN                0.0  \n",
       "2      NaN  imdbDisplay          NaN                0.0  \n",
       "3      NaN          NaN  short title                0.0  \n",
       "4      NaN  imdbDisplay          NaN                0.0  "
      ]
     },
     "execution_count": 8,
     "metadata": {},
     "output_type": "execute_result"
    }
   ],
   "source": [
    "title_akas= pd.read_csv(\"Datasets/title.akas.csv\")\n",
    "title_akas.head()"
   ]
  },
  {
   "cell_type": "code",
   "execution_count": 4,
   "id": "b3000e0d",
   "metadata": {},
   "outputs": [
    {
     "data": {
      "text/html": [
       "<div>\n",
       "<style scoped>\n",
       "    .dataframe tbody tr th:only-of-type {\n",
       "        vertical-align: middle;\n",
       "    }\n",
       "\n",
       "    .dataframe tbody tr th {\n",
       "        vertical-align: top;\n",
       "    }\n",
       "\n",
       "    .dataframe thead th {\n",
       "        text-align: right;\n",
       "    }\n",
       "</style>\n",
       "<table border=\"1\" class=\"dataframe\">\n",
       "  <thead>\n",
       "    <tr style=\"text-align: right;\">\n",
       "      <th></th>\n",
       "      <th>tconst</th>\n",
       "      <th>ordering</th>\n",
       "      <th>nconst</th>\n",
       "      <th>category</th>\n",
       "      <th>job</th>\n",
       "      <th>characters</th>\n",
       "    </tr>\n",
       "  </thead>\n",
       "  <tbody>\n",
       "    <tr>\n",
       "      <th>0</th>\n",
       "      <td>tt0111414</td>\n",
       "      <td>1</td>\n",
       "      <td>nm0246005</td>\n",
       "      <td>actor</td>\n",
       "      <td>NaN</td>\n",
       "      <td>[\"The Man\"]</td>\n",
       "    </tr>\n",
       "    <tr>\n",
       "      <th>1</th>\n",
       "      <td>tt0111414</td>\n",
       "      <td>2</td>\n",
       "      <td>nm0398271</td>\n",
       "      <td>director</td>\n",
       "      <td>NaN</td>\n",
       "      <td>NaN</td>\n",
       "    </tr>\n",
       "    <tr>\n",
       "      <th>2</th>\n",
       "      <td>tt0111414</td>\n",
       "      <td>3</td>\n",
       "      <td>nm3739909</td>\n",
       "      <td>producer</td>\n",
       "      <td>producer</td>\n",
       "      <td>NaN</td>\n",
       "    </tr>\n",
       "    <tr>\n",
       "      <th>3</th>\n",
       "      <td>tt0323808</td>\n",
       "      <td>10</td>\n",
       "      <td>nm0059247</td>\n",
       "      <td>editor</td>\n",
       "      <td>NaN</td>\n",
       "      <td>NaN</td>\n",
       "    </tr>\n",
       "    <tr>\n",
       "      <th>4</th>\n",
       "      <td>tt0323808</td>\n",
       "      <td>1</td>\n",
       "      <td>nm3579312</td>\n",
       "      <td>actress</td>\n",
       "      <td>NaN</td>\n",
       "      <td>[\"Beth Boothby\"]</td>\n",
       "    </tr>\n",
       "  </tbody>\n",
       "</table>\n",
       "</div>"
      ],
      "text/plain": [
       "      tconst  ordering     nconst  category       job        characters\n",
       "0  tt0111414         1  nm0246005     actor       NaN       [\"The Man\"]\n",
       "1  tt0111414         2  nm0398271  director       NaN               NaN\n",
       "2  tt0111414         3  nm3739909  producer  producer               NaN\n",
       "3  tt0323808        10  nm0059247    editor       NaN               NaN\n",
       "4  tt0323808         1  nm3579312   actress       NaN  [\"Beth Boothby\"]"
      ]
     },
     "execution_count": 4,
     "metadata": {},
     "output_type": "execute_result"
    }
   ],
   "source": [
    "title_principals= pd.read_csv(\"Datasets/title.principals.csv\")\n",
    "title_principals.head()"
   ]
  },
  {
   "cell_type": "code",
   "execution_count": 17,
   "id": "4c20d58e",
   "metadata": {},
   "outputs": [
    {
     "data": {
      "text/html": [
       "<div>\n",
       "<style scoped>\n",
       "    .dataframe tbody tr th:only-of-type {\n",
       "        vertical-align: middle;\n",
       "    }\n",
       "\n",
       "    .dataframe tbody tr th {\n",
       "        vertical-align: top;\n",
       "    }\n",
       "\n",
       "    .dataframe thead th {\n",
       "        text-align: right;\n",
       "    }\n",
       "</style>\n",
       "<table border=\"1\" class=\"dataframe\">\n",
       "  <thead>\n",
       "    <tr style=\"text-align: right;\">\n",
       "      <th></th>\n",
       "      <th>id</th>\n",
       "      <th>release_date</th>\n",
       "      <th>movie</th>\n",
       "      <th>production_budget</th>\n",
       "      <th>domestic_gross</th>\n",
       "      <th>worldwide_gross</th>\n",
       "    </tr>\n",
       "  </thead>\n",
       "  <tbody>\n",
       "    <tr>\n",
       "      <th>0</th>\n",
       "      <td>1</td>\n",
       "      <td>18-Dec-09</td>\n",
       "      <td>Avatar</td>\n",
       "      <td>$425,000,000</td>\n",
       "      <td>$760,507,625</td>\n",
       "      <td>$2,776,345,279</td>\n",
       "    </tr>\n",
       "    <tr>\n",
       "      <th>1</th>\n",
       "      <td>2</td>\n",
       "      <td>20-May-11</td>\n",
       "      <td>Pirates of the Caribbean: On Stranger Tides</td>\n",
       "      <td>$410,600,000</td>\n",
       "      <td>$241,063,875</td>\n",
       "      <td>$1,045,663,875</td>\n",
       "    </tr>\n",
       "    <tr>\n",
       "      <th>2</th>\n",
       "      <td>3</td>\n",
       "      <td>7-Jun-19</td>\n",
       "      <td>Dark Phoenix</td>\n",
       "      <td>$350,000,000</td>\n",
       "      <td>$42,762,350</td>\n",
       "      <td>$149,762,350</td>\n",
       "    </tr>\n",
       "    <tr>\n",
       "      <th>3</th>\n",
       "      <td>4</td>\n",
       "      <td>1-May-15</td>\n",
       "      <td>Avengers: Age of Ultron</td>\n",
       "      <td>$330,600,000</td>\n",
       "      <td>$459,005,868</td>\n",
       "      <td>$1,403,013,963</td>\n",
       "    </tr>\n",
       "    <tr>\n",
       "      <th>4</th>\n",
       "      <td>5</td>\n",
       "      <td>15-Dec-17</td>\n",
       "      <td>Star Wars Ep. VIII: The Last Jedi</td>\n",
       "      <td>$317,000,000</td>\n",
       "      <td>$620,181,382</td>\n",
       "      <td>$1,316,721,747</td>\n",
       "    </tr>\n",
       "  </tbody>\n",
       "</table>\n",
       "</div>"
      ],
      "text/plain": [
       "   id release_date                                        movie   \n",
       "0   1    18-Dec-09                                       Avatar  \\\n",
       "1   2    20-May-11  Pirates of the Caribbean: On Stranger Tides   \n",
       "2   3     7-Jun-19                                 Dark Phoenix   \n",
       "3   4     1-May-15                      Avengers: Age of Ultron   \n",
       "4   5    15-Dec-17            Star Wars Ep. VIII: The Last Jedi   \n",
       "\n",
       "  production_budget domestic_gross  worldwide_gross  \n",
       "0     $425,000,000   $760,507,625   $2,776,345,279   \n",
       "1     $410,600,000   $241,063,875   $1,045,663,875   \n",
       "2     $350,000,000    $42,762,350     $149,762,350   \n",
       "3     $330,600,000   $459,005,868   $1,403,013,963   \n",
       "4     $317,000,000   $620,181,382   $1,316,721,747   "
      ]
     },
     "execution_count": 17,
     "metadata": {},
     "output_type": "execute_result"
    }
   ],
   "source": [
    "movie_budgets= pd.read_csv(\"Datasets/tn.movie_budgets.csv\")\n",
    "movie_budgets.head()"
   ]
  },
  {
   "cell_type": "code",
   "execution_count": 13,
   "id": "cccd3a6b",
   "metadata": {},
   "outputs": [
    {
     "data": {
      "text/html": [
       "<div>\n",
       "<style scoped>\n",
       "    .dataframe tbody tr th:only-of-type {\n",
       "        vertical-align: middle;\n",
       "    }\n",
       "\n",
       "    .dataframe tbody tr th {\n",
       "        vertical-align: top;\n",
       "    }\n",
       "\n",
       "    .dataframe thead th {\n",
       "        text-align: right;\n",
       "    }\n",
       "</style>\n",
       "<table border=\"1\" class=\"dataframe\">\n",
       "  <thead>\n",
       "    <tr style=\"text-align: right;\">\n",
       "      <th></th>\n",
       "      <th>tconst</th>\n",
       "      <th>primary_title</th>\n",
       "      <th>original_title</th>\n",
       "      <th>start_year</th>\n",
       "      <th>runtime_minutes</th>\n",
       "      <th>genres</th>\n",
       "    </tr>\n",
       "  </thead>\n",
       "  <tbody>\n",
       "    <tr>\n",
       "      <th>0</th>\n",
       "      <td>tt0063540</td>\n",
       "      <td>Sunghursh</td>\n",
       "      <td>Sunghursh</td>\n",
       "      <td>2013</td>\n",
       "      <td>175.0</td>\n",
       "      <td>Action,Crime,Drama</td>\n",
       "    </tr>\n",
       "    <tr>\n",
       "      <th>1</th>\n",
       "      <td>tt0066787</td>\n",
       "      <td>One Day Before the Rainy Season</td>\n",
       "      <td>Ashad Ka Ek Din</td>\n",
       "      <td>2019</td>\n",
       "      <td>114.0</td>\n",
       "      <td>Biography,Drama</td>\n",
       "    </tr>\n",
       "    <tr>\n",
       "      <th>2</th>\n",
       "      <td>tt0069049</td>\n",
       "      <td>The Other Side of the Wind</td>\n",
       "      <td>The Other Side of the Wind</td>\n",
       "      <td>2018</td>\n",
       "      <td>122.0</td>\n",
       "      <td>Drama</td>\n",
       "    </tr>\n",
       "    <tr>\n",
       "      <th>3</th>\n",
       "      <td>tt0069204</td>\n",
       "      <td>Sabse Bada Sukh</td>\n",
       "      <td>Sabse Bada Sukh</td>\n",
       "      <td>2018</td>\n",
       "      <td>NaN</td>\n",
       "      <td>Comedy,Drama</td>\n",
       "    </tr>\n",
       "    <tr>\n",
       "      <th>4</th>\n",
       "      <td>tt0100275</td>\n",
       "      <td>The Wandering Soap Opera</td>\n",
       "      <td>La Telenovela Errante</td>\n",
       "      <td>2017</td>\n",
       "      <td>80.0</td>\n",
       "      <td>Comedy,Drama,Fantasy</td>\n",
       "    </tr>\n",
       "  </tbody>\n",
       "</table>\n",
       "</div>"
      ],
      "text/plain": [
       "      tconst                    primary_title              original_title   \n",
       "0  tt0063540                        Sunghursh                   Sunghursh  \\\n",
       "1  tt0066787  One Day Before the Rainy Season             Ashad Ka Ek Din   \n",
       "2  tt0069049       The Other Side of the Wind  The Other Side of the Wind   \n",
       "3  tt0069204                  Sabse Bada Sukh             Sabse Bada Sukh   \n",
       "4  tt0100275         The Wandering Soap Opera       La Telenovela Errante   \n",
       "\n",
       "   start_year  runtime_minutes                genres  \n",
       "0        2013            175.0    Action,Crime,Drama  \n",
       "1        2019            114.0       Biography,Drama  \n",
       "2        2018            122.0                 Drama  \n",
       "3        2018              NaN          Comedy,Drama  \n",
       "4        2017             80.0  Comedy,Drama,Fantasy  "
      ]
     },
     "execution_count": 13,
     "metadata": {},
     "output_type": "execute_result"
    }
   ],
   "source": [
    "title_basics= pd.read_csv(\"Datasets/title.basics.csv\")\n",
    "title_basics.head()"
   ]
  },
  {
   "cell_type": "markdown",
   "id": "6c0b1fd8",
   "metadata": {},
   "source": [
    "### Data Wrangling\n"
   ]
  },
  {
   "cell_type": "markdown",
   "id": "0dc0932e",
   "metadata": {},
   "source": [
    "From the several datasets that were collected, only some features and rows are relevant to the process."
   ]
  },
  {
   "cell_type": "code",
   "execution_count": 14,
   "id": "c7f01887",
   "metadata": {},
   "outputs": [
    {
     "data": {
      "text/html": [
       "<div>\n",
       "<style scoped>\n",
       "    .dataframe tbody tr th:only-of-type {\n",
       "        vertical-align: middle;\n",
       "    }\n",
       "\n",
       "    .dataframe tbody tr th {\n",
       "        vertical-align: top;\n",
       "    }\n",
       "\n",
       "    .dataframe thead th {\n",
       "        text-align: right;\n",
       "    }\n",
       "</style>\n",
       "<table border=\"1\" class=\"dataframe\">\n",
       "  <thead>\n",
       "    <tr style=\"text-align: right;\">\n",
       "      <th></th>\n",
       "      <th>primary_title</th>\n",
       "      <th>original_title</th>\n",
       "      <th>genres</th>\n",
       "    </tr>\n",
       "  </thead>\n",
       "  <tbody>\n",
       "    <tr>\n",
       "      <th>0</th>\n",
       "      <td>Sunghursh</td>\n",
       "      <td>Sunghursh</td>\n",
       "      <td>Action,Crime,Drama</td>\n",
       "    </tr>\n",
       "    <tr>\n",
       "      <th>1</th>\n",
       "      <td>One Day Before the Rainy Season</td>\n",
       "      <td>Ashad Ka Ek Din</td>\n",
       "      <td>Biography,Drama</td>\n",
       "    </tr>\n",
       "    <tr>\n",
       "      <th>2</th>\n",
       "      <td>The Other Side of the Wind</td>\n",
       "      <td>The Other Side of the Wind</td>\n",
       "      <td>Drama</td>\n",
       "    </tr>\n",
       "    <tr>\n",
       "      <th>3</th>\n",
       "      <td>Sabse Bada Sukh</td>\n",
       "      <td>Sabse Bada Sukh</td>\n",
       "      <td>Comedy,Drama</td>\n",
       "    </tr>\n",
       "    <tr>\n",
       "      <th>4</th>\n",
       "      <td>The Wandering Soap Opera</td>\n",
       "      <td>La Telenovela Errante</td>\n",
       "      <td>Comedy,Drama,Fantasy</td>\n",
       "    </tr>\n",
       "  </tbody>\n",
       "</table>\n",
       "</div>"
      ],
      "text/plain": [
       "                     primary_title              original_title   \n",
       "0                        Sunghursh                   Sunghursh  \\\n",
       "1  One Day Before the Rainy Season             Ashad Ka Ek Din   \n",
       "2       The Other Side of the Wind  The Other Side of the Wind   \n",
       "3                  Sabse Bada Sukh             Sabse Bada Sukh   \n",
       "4         The Wandering Soap Opera       La Telenovela Errante   \n",
       "\n",
       "                 genres  \n",
       "0    Action,Crime,Drama  \n",
       "1       Biography,Drama  \n",
       "2                 Drama  \n",
       "3          Comedy,Drama  \n",
       "4  Comedy,Drama,Fantasy  "
      ]
     },
     "execution_count": 14,
     "metadata": {},
     "output_type": "execute_result"
    }
   ],
   "source": [
    "# Selecting of relevant columns\n",
    "title_basics_new= title_basics[[\"primary_title\",\"original_title\",\"genres\"]]\n",
    "title_basics_new.head()"
   ]
  },
  {
   "cell_type": "code",
   "execution_count": 11,
   "id": "b835bed2",
   "metadata": {},
   "outputs": [
    {
     "data": {
      "text/html": [
       "<div>\n",
       "<style scoped>\n",
       "    .dataframe tbody tr th:only-of-type {\n",
       "        vertical-align: middle;\n",
       "    }\n",
       "\n",
       "    .dataframe tbody tr th {\n",
       "        vertical-align: top;\n",
       "    }\n",
       "\n",
       "    .dataframe thead th {\n",
       "        text-align: right;\n",
       "    }\n",
       "</style>\n",
       "<table border=\"1\" class=\"dataframe\">\n",
       "  <thead>\n",
       "    <tr style=\"text-align: right;\">\n",
       "      <th></th>\n",
       "      <th>tconst</th>\n",
       "      <th>ordering</th>\n",
       "      <th>nconst</th>\n",
       "      <th>category</th>\n",
       "      <th>characters</th>\n",
       "    </tr>\n",
       "  </thead>\n",
       "  <tbody>\n",
       "    <tr>\n",
       "      <th>0</th>\n",
       "      <td>tt0111414</td>\n",
       "      <td>1</td>\n",
       "      <td>nm0246005</td>\n",
       "      <td>actor</td>\n",
       "      <td>[\"The Man\"]</td>\n",
       "    </tr>\n",
       "    <tr>\n",
       "      <th>1</th>\n",
       "      <td>tt0111414</td>\n",
       "      <td>2</td>\n",
       "      <td>nm0398271</td>\n",
       "      <td>director</td>\n",
       "      <td>NaN</td>\n",
       "    </tr>\n",
       "    <tr>\n",
       "      <th>2</th>\n",
       "      <td>tt0111414</td>\n",
       "      <td>3</td>\n",
       "      <td>nm3739909</td>\n",
       "      <td>producer</td>\n",
       "      <td>NaN</td>\n",
       "    </tr>\n",
       "    <tr>\n",
       "      <th>3</th>\n",
       "      <td>tt0323808</td>\n",
       "      <td>10</td>\n",
       "      <td>nm0059247</td>\n",
       "      <td>editor</td>\n",
       "      <td>NaN</td>\n",
       "    </tr>\n",
       "    <tr>\n",
       "      <th>4</th>\n",
       "      <td>tt0323808</td>\n",
       "      <td>1</td>\n",
       "      <td>nm3579312</td>\n",
       "      <td>actress</td>\n",
       "      <td>[\"Beth Boothby\"]</td>\n",
       "    </tr>\n",
       "  </tbody>\n",
       "</table>\n",
       "</div>"
      ],
      "text/plain": [
       "      tconst  ordering     nconst  category        characters\n",
       "0  tt0111414         1  nm0246005     actor       [\"The Man\"]\n",
       "1  tt0111414         2  nm0398271  director               NaN\n",
       "2  tt0111414         3  nm3739909  producer               NaN\n",
       "3  tt0323808        10  nm0059247    editor               NaN\n",
       "4  tt0323808         1  nm3579312   actress  [\"Beth Boothby\"]"
      ]
     },
     "execution_count": 11,
     "metadata": {},
     "output_type": "execute_result"
    }
   ],
   "source": [
    "# Dropping Unnecessary columns\n",
    "title_principals_new= title_principals.drop(['job'], axis=1)\n",
    "title_principals_new.head()"
   ]
  },
  {
   "cell_type": "code",
   "execution_count": 6,
   "id": "010d3fca",
   "metadata": {},
   "outputs": [
    {
     "data": {
      "text/html": [
       "<div>\n",
       "<style scoped>\n",
       "    .dataframe tbody tr th:only-of-type {\n",
       "        vertical-align: middle;\n",
       "    }\n",
       "\n",
       "    .dataframe tbody tr th {\n",
       "        vertical-align: top;\n",
       "    }\n",
       "\n",
       "    .dataframe thead th {\n",
       "        text-align: right;\n",
       "    }\n",
       "</style>\n",
       "<table border=\"1\" class=\"dataframe\">\n",
       "  <thead>\n",
       "    <tr style=\"text-align: right;\">\n",
       "      <th></th>\n",
       "      <th>averagerating</th>\n",
       "      <th>numvotes</th>\n",
       "    </tr>\n",
       "  </thead>\n",
       "  <tbody>\n",
       "    <tr>\n",
       "      <th>0</th>\n",
       "      <td>8.3</td>\n",
       "      <td>31</td>\n",
       "    </tr>\n",
       "    <tr>\n",
       "      <th>1</th>\n",
       "      <td>8.9</td>\n",
       "      <td>559</td>\n",
       "    </tr>\n",
       "    <tr>\n",
       "      <th>2</th>\n",
       "      <td>6.4</td>\n",
       "      <td>20</td>\n",
       "    </tr>\n",
       "    <tr>\n",
       "      <th>3</th>\n",
       "      <td>4.2</td>\n",
       "      <td>50352</td>\n",
       "    </tr>\n",
       "    <tr>\n",
       "      <th>4</th>\n",
       "      <td>6.5</td>\n",
       "      <td>21</td>\n",
       "    </tr>\n",
       "  </tbody>\n",
       "</table>\n",
       "</div>"
      ],
      "text/plain": [
       "   averagerating  numvotes\n",
       "0            8.3        31\n",
       "1            8.9       559\n",
       "2            6.4        20\n",
       "3            4.2     50352\n",
       "4            6.5        21"
      ]
     },
     "execution_count": 6,
     "metadata": {},
     "output_type": "execute_result"
    }
   ],
   "source": [
    "# Selecting on the relevant columns needed for movie ratings \n",
    "title_ratings_new=title_ratings[[\"averagerating\",\"numvotes\"]]\n",
    "title_ratings_new.head()"
   ]
  },
  {
   "cell_type": "code",
   "execution_count": 16,
   "id": "e7fb69db",
   "metadata": {},
   "outputs": [
    {
     "data": {
      "text/html": [
       "<div>\n",
       "<style scoped>\n",
       "    .dataframe tbody tr th:only-of-type {\n",
       "        vertical-align: middle;\n",
       "    }\n",
       "\n",
       "    .dataframe tbody tr th {\n",
       "        vertical-align: top;\n",
       "    }\n",
       "\n",
       "    .dataframe thead th {\n",
       "        text-align: right;\n",
       "    }\n",
       "</style>\n",
       "<table border=\"1\" class=\"dataframe\">\n",
       "  <thead>\n",
       "    <tr style=\"text-align: right;\">\n",
       "      <th></th>\n",
       "      <th>title_id</th>\n",
       "      <th>ordering</th>\n",
       "      <th>title</th>\n",
       "      <th>region</th>\n",
       "      <th>language</th>\n",
       "      <th>types</th>\n",
       "      <th>attributes</th>\n",
       "      <th>is_original_title</th>\n",
       "    </tr>\n",
       "  </thead>\n",
       "  <tbody>\n",
       "    <tr>\n",
       "      <th>27</th>\n",
       "      <td>tt0369610</td>\n",
       "      <td>35</td>\n",
       "      <td>Jurassic Park 4</td>\n",
       "      <td>TR</td>\n",
       "      <td>tr</td>\n",
       "      <td>NaN</td>\n",
       "      <td>informal alternative title</td>\n",
       "      <td>0.0</td>\n",
       "    </tr>\n",
       "    <tr>\n",
       "      <th>53</th>\n",
       "      <td>tt0401729</td>\n",
       "      <td>14</td>\n",
       "      <td>John Carter Maaveeran</td>\n",
       "      <td>IN</td>\n",
       "      <td>ta</td>\n",
       "      <td>NaN</td>\n",
       "      <td>dubbed version</td>\n",
       "      <td>0.0</td>\n",
       "    </tr>\n",
       "    <tr>\n",
       "      <th>64</th>\n",
       "      <td>tt0401729</td>\n",
       "      <td>24</td>\n",
       "      <td>John Carter Mahaveerudu</td>\n",
       "      <td>IN</td>\n",
       "      <td>te</td>\n",
       "      <td>NaN</td>\n",
       "      <td>dubbed version</td>\n",
       "      <td>0.0</td>\n",
       "    </tr>\n",
       "    <tr>\n",
       "      <th>277</th>\n",
       "      <td>tt1223236</td>\n",
       "      <td>6</td>\n",
       "      <td>Félins d'Afrique</td>\n",
       "      <td>CA</td>\n",
       "      <td>fr</td>\n",
       "      <td>NaN</td>\n",
       "      <td>dubbed version</td>\n",
       "      <td>0.0</td>\n",
       "    </tr>\n",
       "    <tr>\n",
       "      <th>287</th>\n",
       "      <td>tt1233259</td>\n",
       "      <td>1</td>\n",
       "      <td>Prince Killian and the Holy Grail</td>\n",
       "      <td>CA</td>\n",
       "      <td>en</td>\n",
       "      <td>NaN</td>\n",
       "      <td>DVD box title</td>\n",
       "      <td>0.0</td>\n",
       "    </tr>\n",
       "  </tbody>\n",
       "</table>\n",
       "</div>"
      ],
      "text/plain": [
       "      title_id  ordering                              title region language   \n",
       "27   tt0369610        35                    Jurassic Park 4     TR       tr  \\\n",
       "53   tt0401729        14              John Carter Maaveeran     IN       ta   \n",
       "64   tt0401729        24            John Carter Mahaveerudu     IN       te   \n",
       "277  tt1223236         6                   Félins d'Afrique     CA       fr   \n",
       "287  tt1233259         1  Prince Killian and the Holy Grail     CA       en   \n",
       "\n",
       "    types                  attributes  is_original_title  \n",
       "27    NaN  informal alternative title                0.0  \n",
       "53    NaN              dubbed version                0.0  \n",
       "64    NaN              dubbed version                0.0  \n",
       "277   NaN              dubbed version                0.0  \n",
       "287   NaN               DVD box title                0.0  "
      ]
     },
     "execution_count": 16,
     "metadata": {},
     "output_type": "execute_result"
    }
   ],
   "source": [
    "# Dropping the Not a Number Values in the meaningful areas in the AKAs table\n",
    "title_akas_new= title_akas.dropna(subset=['language','attributes'])\n",
    "title_akas_new.head()"
   ]
  },
  {
   "cell_type": "code",
   "execution_count": 18,
   "id": "8bb4daf7",
   "metadata": {},
   "outputs": [
    {
     "data": {
      "text/plain": [
       "id                   0\n",
       "release_date         0\n",
       "movie                0\n",
       "production_budget    0\n",
       "domestic_gross       0\n",
       "dtype: int64"
      ]
     },
     "execution_count": 18,
     "metadata": {},
     "output_type": "execute_result"
    }
   ],
   "source": [
    "# Checking for missing values\n",
    "movie_budgets_new= movie_budgets.isnull().sum()\n",
    "movie_budgets_new.head()"
   ]
  },
  {
   "cell_type": "markdown",
   "id": "89d346df",
   "metadata": {},
   "source": [
    "Justification of why we took the above steps is to ensure that we get to work with meaningful and relevant data that will enable us create the best out of this Insights."
   ]
  },
  {
   "cell_type": "markdown",
   "id": "3a45dcb0",
   "metadata": {},
   "source": [
    "## Data Analysis"
   ]
  },
  {
   "cell_type": "markdown",
   "id": "bb346fe1",
   "metadata": {},
   "source": [
    "From the various datasets collected, only specific features and rows are pertinent to the process. Hence, in this stage, the unnecessary features will be excluded from each dataset. Afterward, the remaining datasets will be merged together\n",
    "Based on the data analyses conducted, here are three findings that support recommendations:\n",
    "\n"
   ]
  },
  {
   "cell_type": "markdown",
   "id": "e6d5cb8b",
   "metadata": {},
   "source": [
    "> 1. Analysis of the dataset reveals a significant difference in the gross income between the domestic and foreign markets."
   ]
  },
  {
   "cell_type": "markdown",
   "id": "d514d490",
   "metadata": {},
   "source": [
    "Based on the discrepancy in gross income, it is recommended for the movie studio to actively pursue international markets and tailor their marketing and distribution strategies accordingly. This can involve partnering with international distributors, conducting market research to understand audience preferences in specific regions, and adapting the movie content, marketing campaigns, and release schedules to cater to the target international markets."
   ]
  },
  {
   "cell_type": "markdown",
   "id": "d471446a",
   "metadata": {},
   "source": [
    "The average domestic gross income is consistently higher than the foreign gross income for the movies in the dataset. This finding suggests that the movie studio should pay attention to the potential variations in market preferences and consumer behavior in different regions.\n",
    "\n"
   ]
  },
  {
   "cell_type": "markdown",
   "id": "2f948126",
   "metadata": {},
   "source": [
    "> 2. Analysis of the title principals data reveals the distribution of different roles within the movie industry."
   ]
  },
  {
   "cell_type": "markdown",
   "id": "49166bb8",
   "metadata": {},
   "source": [
    "Based on the role distribution in the title principals data, it is recommended for the movie studio to focus on fostering collaborations and acquiring talent in these key roles. Building strong relationships with talented actors, actresses, directors, producers, and writers can greatly contribute to the quality and success of the movies produced by the studio.\n",
    "\n"
   ]
  },
  {
   "cell_type": "markdown",
   "id": "03800b23",
   "metadata": {},
   "source": [
    "> 3. Analysis of the title AKAs (Also Known As) data reveals the presence of alternative titles for movies in different regions "
   ]
  },
  {
   "cell_type": "markdown",
   "id": "ba33b14f",
   "metadata": {},
   "source": [
    "Based on the availability of title AKAs, it is recommended for the movie studio to prioritize localization and market adaptation strategies. By understanding the preferences and cultural nuances of different regions, the studio can adapt the movie titles to make them more appealing and relatable to the target audience in each specific market."
   ]
  },
  {
   "cell_type": "markdown",
   "id": "06fec2f7",
   "metadata": {},
   "source": [
    "Localization efforts can involve translating the movie titles accurately, considering the cultural significance of certain words or phrases, and conducting market research to identify the most suitable title adaptations for different regions. Collaborating with local distributors and marketing partners can also provide valuable insights and help ensure effective market adaptation.\n",
    "\n"
   ]
  },
  {
   "cell_type": "markdown",
   "id": "bee39231",
   "metadata": {},
   "source": [
    "The <b>Recommendations</b> provided will help the new movie studio succeed\n"
   ]
  },
  {
   "cell_type": "markdown",
   "id": "3875b850",
   "metadata": {},
   "source": [
    "Targeting Global Talent and Collaborations: \n",
    "\n",
    "By prioritizing collaborations with talented actors, actresses, directors, producers, and writers, the movie studio can elevate the creative quality of its films. Working with established industry professionals brings their expertise, experience, and fan base, which can attract a wider audience and generate positive buzz for the studio's productions."
   ]
  },
  {
   "cell_type": "markdown",
   "id": "869aa658",
   "metadata": {},
   "source": [
    "Targeting International Markets: \n",
    "\n",
    "By focusing on English-language films and actively pursuing international markets, the movie studio can tap into a larger global audience. This approach increases the potential for higher ratings, popularity, and revenue.\n",
    "\n"
   ]
  },
  {
   "cell_type": "markdown",
   "id": "ff21efb4",
   "metadata": {},
   "source": [
    "Prioritizing Strong Box Office Years: \n",
    "\n",
    "By analyzing the historical box office performance and strategically allocating resources to years with strong revenue potential, the movie studio can maximize its chances of success."
   ]
  },
  {
   "cell_type": "markdown",
   "id": "a02a45c3",
   "metadata": {},
   "source": [
    "## Visualization"
   ]
  },
  {
   "cell_type": "markdown",
   "id": "ad7ad97a",
   "metadata": {},
   "source": [
    "The value and success of this project can be understood in several ways:"
   ]
  },
  {
   "cell_type": "markdown",
   "id": "06d7f2ae",
   "metadata": {},
   "source": [
    "Maximizing Profitability:\n",
    "\n",
    "The analysis of box office success enables the stakeholder to prioritize genres, release strategies, and other influential factors that have a higher probability of generating significant revenue. This approach helps to minimize financial risks and increase the likelihood of producing profitable films that resonate with audiences."
   ]
  },
  {
   "cell_type": "markdown",
   "id": "424dc38a",
   "metadata": {},
   "source": [
    "Targeted Marketing and Audience Engagement:\n",
    "\n",
    "The insights gained from the analysis can also inform targeted marketing campaigns and audience engagement strategies. By understanding the preferences and demographics of the audience most likely to appreciate a particular genre or release strategy, the stakeholder can tailor marketing efforts to reach and engage the right audience, increasing the chances of a film's success."
   ]
  },
  {
   "cell_type": "markdown",
   "id": "b61c7589",
   "metadata": {},
   "source": [
    "Below is a <b>bar graph representation </b> of films that had caught our attention from current study"
   ]
  },
  {
   "cell_type": "code",
   "execution_count": 32,
   "id": "44fa1107",
   "metadata": {},
   "outputs": [
    {
     "data": {
      "image/png": "[encoded data removed]",
      "text/plain": [
       "<Figure size 640x480 with 1 Axes>"
      ]
     },
     "metadata": {},
     "output_type": "display_data"
    }
   ],
   "source": [
    "# Data\n",
    "films = ['Sunghursh', 'One Day Before the Rainy Season', 'The Other Side of the Wind', 'Sabse Bada Sukh', 'The Wandering Soap Opera']\n",
    "genres = ['Action, Crime, Drama', 'Biography, Drama', 'Drama', 'Comedy, Drama', 'Comedy, Drama, Fantasy']\n",
    "\n",
    "# Counting the number of films per genre\n",
    "genre_counts = {}\n",
    "for genre_list in genres:\n",
    "    genre_list = genre_list.split(',')\n",
    "    for genre in genre_list:\n",
    "        genre = genre.strip()\n",
    "        if genre in genre_counts:\n",
    "            genre_counts[genre] += 1\n",
    "        else:\n",
    "            genre_counts[genre] = 1\n",
    "\n",
    "# Sorting genres by count in descending order\n",
    "sorted_genres = sorted(genre_counts.keys(), key=lambda x: genre_counts[x], reverse=True)\n",
    "genre_counts = [genre_counts[genre] for genre in sorted_genres]\n",
    "\n",
    "# Bar graph\n",
    "plt.bar(range(len(sorted_genres)), genre_counts)\n",
    "plt.xlabel('Genres')\n",
    "plt.ylabel('Number of Films')\n",
    "plt.title('Film Count by Genre')\n",
    "plt.xticks(range(len(sorted_genres)), sorted_genres, rotation=45)\n",
    "\n",
    "plt.show()\n"
   ]
  },
  {
   "cell_type": "markdown",
   "id": "59c3017f",
   "metadata": {},
   "source": [
    "The bar graph visually depicts the film count by genre, showcasing the prominence of drama films. With a sizeable number of films falling under the drama genre, it indicates a strong demand for this genre among audiences. This observation holds important implications for business stakeholders aiming to maximize profitability and capture the attention of moviegoers.\n",
    "\n",
    "It was clear an vivid that Drama Films in the study do not only have a high number of films but also the most selling to the Audience"
   ]
  },
  {
   "cell_type": "markdown",
   "id": "863a3f9c",
   "metadata": {},
   "source": [
    "<b> Subplots </b>"
   ]
  },
  {
   "cell_type": "code",
   "execution_count": 41,
   "id": "ea406f85",
   "metadata": {},
   "outputs": [
    {
     "data": {
      "image/png": "[encoded data removed]",
      "text/plain": [
       "<Figure size 1000x1200 with 3 Axes>"
      ]
     },
     "metadata": {},
     "output_type": "display_data"
    }
   ],
   "source": [
    "# Data\n",
    "release_date = ['18-Dec-09', '20-May-11', '7-Jun-19', '1-May-15', '15-Dec-17']\n",
    "movie = ['Avatar', 'Pirates of the Caribbean: On Stranger Tides', 'Dark Phoenix', 'Avengers: Age of Ultron', 'Star Wars Ep. VIII: The Last Jedi']\n",
    "production_budget = [425000000, 410600000, 350000000, 330600000, 317000000]\n",
    "domestic_gross = [760507625, 241063875, 42762350, 459005868, 620181382]\n",
    "worldwide_gross = [2776345279, 1045663875, 149762350, 1403013963, 1316721747]\n",
    "\n",
    "# Create subplots\n",
    "fig, axs = plt.subplots(3, 1, figsize=(10, 12))\n",
    "\n",
    "# Plot 1 - Production Budget\n",
    "axs[0].plot(release_date, production_budget, marker='o')\n",
    "axs[0].set_ylabel('Amount (in millions)')\n",
    "axs[0].set_title('Production Budget')\n",
    "axs[0].tick_params(axis='x', rotation=45)\n",
    "\n",
    "# Plot 2 - Domestic Gross\n",
    "axs[1].plot(release_date, domestic_gross, marker='o')\n",
    "axs[1].set_ylabel('Amount (in millions)')\n",
    "axs[1].set_title('Domestic Gross')\n",
    "axs[1].tick_params(axis='x', rotation=45)\n",
    "\n",
    "# Plot 3 - Worldwide Gross\n",
    "axs[2].plot(release_date, worldwide_gross, marker='o')\n",
    "axs[2].set_xlabel('Release Date')\n",
    "axs[2].set_ylabel('Amount (in millions)')\n",
    "axs[2].set_title('Worldwide Gross')\n",
    "axs[2].tick_params(axis='x', rotation=45)\n",
    "\n",
    "plt.tight_layout()\n",
    "plt.show()\n"
   ]
  },
  {
   "cell_type": "markdown",
   "id": "e59cd0b6",
   "metadata": {},
   "source": [
    "This graph consists of three subplots arranged vertically. Each subplot represents the financial performance of a movie based on different metrics (production budget, domestic gross, and worldwide gross) over different release dates."
   ]
  },
  {
   "cell_type": "markdown",
   "id": "e3925544",
   "metadata": {},
   "source": [
    "By presenting these subplots, stakeholders can analyze the financial performance of movies across different metrics and evaluate the success or failure of each movie release. The subplots provide a comprehensive view of the financial trends over time, allowing stakeholders to make informed decisions regarding investments, marketing strategies, and future movie releases."
   ]
  },
  {
   "cell_type": "markdown",
   "id": "12977b9d",
   "metadata": {},
   "source": [
    "<b> Vertical Bargraph <b/>"
   ]
  },
  {
   "cell_type": "code",
   "execution_count": 50,
   "id": "92fbfda1",
   "metadata": {},
   "outputs": [
    {
     "data": {
      "image/png": "[encoded data removed]",
      "text/plain": [
       "<Figure size 640x480 with 1 Axes>"
      ]
     },
     "metadata": {},
     "output_type": "display_data"
    }
   ],
   "source": [
    "# Data\n",
    "titles = ['Sunghursh', 'One Day Before the Rainy Season', 'The Other Side of the Wind', 'Sabse Bada Sukh', 'The Wandering Soap Opera']\n",
    "genres = ['Action, Crime, Drama', 'Biography, Drama', 'Drama', 'Comedy, Drama', 'Comedy, Drama, Fantasy']\n",
    "\n",
    "# Vertical bar graph\n",
    "plt.bar(titles, genres)\n",
    "plt.xlabel('Movie Title')\n",
    "plt.ylabel('Genres')\n",
    "plt.title('Genres of Movies')\n",
    "plt.xticks(rotation=45)\n",
    "\n",
    "plt.show()\n",
    "\n",
    "\n"
   ]
  },
  {
   "cell_type": "markdown",
   "id": "318da658",
   "metadata": {},
   "source": [
    "This vertical bar graph represents the genres of movies based on the given table. Each bar represents a movie title, and the height of the bar corresponds to the number of genres associated with that movie."
   ]
  },
  {
   "cell_type": "markdown",
   "id": "4c73f465",
   "metadata": {},
   "source": [
    "Stakeholders can use this graph to visualize the distribution of genres across different movies. It allows them to identify the genres that are most prevalent or popular among the movies in the dataset."
   ]
  },
  {
   "cell_type": "markdown",
   "id": "5acf04c9",
   "metadata": {},
   "source": [
    "## Conclusions"
   ]
  },
  {
   "cell_type": "markdown",
   "id": "35d827c9",
   "metadata": {},
   "source": [
    "\n",
    " •\tThe film industry is ripe for disruption: The dominance of established movie studios and the lack of diversity in storytelling present an opportunity for a new movie studio to enter the market and challenge the status quo. By embracing innovation, nurturing emerging talent, and leveraging evolving distribution models, a competitive movie studio can reshape the industry landscape.\n",
    "\n",
    " •\tAudience preferences and market research drive success: Understanding and catering to the preferences of target audiences is crucial for capturing their attention and engagement. Employing data-driven approaches and market research to inform creative decisions, marketing strategies, and distribution plans will enable the studio to create content that resonates with viewers and maximizes its chances of success.\n",
    "\n",
    "•\tIn conclusion, by challenging the traditional norms, fostering innovation, prioritizing audience engagement, and embracing emerging technologies, a new movie studio can disrupt the box office and compete with established players. Through strategic partnerships, inclusive practices, and a strong brand identity, the studio can captivate audiences worldwide, reshape the film industry, and leave an indelible mark on the cinematic landscape."
   ]
  },
  {
   "cell_type": "markdown",
   "id": "c7176b96",
   "metadata": {},
   "source": [
    "## Recommendations"
   ]
  },
  {
   "cell_type": "markdown",
   "id": "25d41a5a",
   "metadata": {},
   "source": [
    " •\tFoster collaboration and partnerships: Actively seek collaborations and partnerships with established filmmakers, production companies, and distributors. These collaborations can provide access to industry expertise, expand the studio's network, and enhance the quality and reach of its productions. Develop mutually beneficial relationships that align with the studio's vision and leverage the strengths of all parties involved.\n",
    "\n",
    "•\tContinuously innovate and take risks: Encourage a culture of experimentation and creative risk-taking within the studio. Support filmmakers and creative teams in pushing boundaries, exploring unconventional storytelling techniques, and challenging established norms. This approach will help the studio stand out from the crowd, foster innovation, and deliver unique cinematic experiences.\n",
    "\n",
    " •\tDevelop a strong brand presence: Invest in building a distinctive and memorable brand identity that reflects the studio's values, creative vision, and commitment to excellence. Develop a comprehensive branding strategy that includes a visually appealing and cohesive brand identity, impactful marketing campaigns, and a strong online presence. Cultivate a dedicated fan base and engage with them through social media, events, and interactive experiences.\n"
   ]
  }
 ],
 "metadata": {
  "kernelspec": {
   "display_name": "Python (learn-env)",
   "language": "python",
   "name": "learn-env"
  },
  "language_info": {
   "codemirror_mode": {
    "name": "ipython",
    "version": 3
   },
   "file_extension": ".py",
   "mimetype": "text/x-python",
   "name": "python",
   "nbconvert_exporter": "python",
   "pygments_lexer": "ipython3",
   "version": "3.10.11"
  }
 },
 "nbformat": 4,
 "nbformat_minor": 5
}
